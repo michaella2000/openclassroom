{
 "cells": [
  {
   "cell_type": "code",
   "execution_count": 5,
   "id": "0916cf61",
   "metadata": {},
   "outputs": [
    {
     "data": {
      "text/html": [
       "<div>\n",
       "<style scoped>\n",
       "    .dataframe tbody tr th:only-of-type {\n",
       "        vertical-align: middle;\n",
       "    }\n",
       "\n",
       "    .dataframe tbody tr th {\n",
       "        vertical-align: top;\n",
       "    }\n",
       "\n",
       "    .dataframe thead th {\n",
       "        text-align: right;\n",
       "    }\n",
       "</style>\n",
       "<table border=\"1\" class=\"dataframe\">\n",
       "  <thead>\n",
       "    <tr style=\"text-align: right;\">\n",
       "      <th></th>\n",
       "      <th>Pays</th>\n",
       "      <th>Taux d'urbanisation</th>\n",
       "      <th>Taux de natalilté</th>\n",
       "    </tr>\n",
       "    <tr>\n",
       "      <th>Observations</th>\n",
       "      <th></th>\n",
       "      <th></th>\n",
       "      <th></th>\n",
       "    </tr>\n",
       "  </thead>\n",
       "  <tbody>\n",
       "    <tr>\n",
       "      <th>1</th>\n",
       "      <td>Canada</td>\n",
       "      <td>55.0</td>\n",
       "      <td>16.2</td>\n",
       "    </tr>\n",
       "    <tr>\n",
       "      <th>2</th>\n",
       "      <td>Costa-Rica</td>\n",
       "      <td>27.3</td>\n",
       "      <td>30.5</td>\n",
       "    </tr>\n",
       "    <tr>\n",
       "      <th>3</th>\n",
       "      <td>Cuba</td>\n",
       "      <td>33.3</td>\n",
       "      <td>16.9</td>\n",
       "    </tr>\n",
       "    <tr>\n",
       "      <th>4</th>\n",
       "      <td>USA</td>\n",
       "      <td>56.5</td>\n",
       "      <td>16.0</td>\n",
       "    </tr>\n",
       "    <tr>\n",
       "      <th>5</th>\n",
       "      <td>El Salvador</td>\n",
       "      <td>11.5</td>\n",
       "      <td>40.2</td>\n",
       "    </tr>\n",
       "  </tbody>\n",
       "</table>\n",
       "</div>"
      ],
      "text/plain": [
       "                     Pays  Taux d'urbanisation  Taux de natalilté\n",
       "Observations                                                     \n",
       "1                  Canada                 55.0               16.2\n",
       "2              Costa-Rica                 27.3               30.5\n",
       "3                    Cuba                 33.3               16.9\n",
       "4                     USA                 56.5               16.0\n",
       "5             El Salvador                 11.5               40.2"
      ]
     },
     "execution_count": 5,
     "metadata": {},
     "output_type": "execute_result"
    }
   ],
   "source": [
    "import pandas as pd\n",
    "import numpy as np\n",
    "data = pd.read_csv('TD1-fichier.csv', sep = ',',index_col = 0)\n",
    "data.head()"
   ]
  },
  {
   "cell_type": "code",
   "execution_count": 6,
   "id": "d07f4e0f",
   "metadata": {},
   "outputs": [
    {
     "name": "stdout",
     "output_type": "stream",
     "text": [
      "              Taux d'urbanisation  Taux de natalilté\n",
      "Observations                                        \n",
      "1                            55.0               16.2\n",
      "2                            27.3               30.5\n",
      "3                            33.3               16.9\n",
      "4                            56.5               16.0\n",
      "5                            11.5               40.2\n",
      "6                            14.2               38.4\n",
      "7                            13.9               41.3\n",
      "8                            19.0               43.9\n",
      "9                            31.1               28.3\n",
      "10                           43.2               33.9\n",
      "11                           28.5               44.2\n",
      "12                            6.8               24.6\n",
      "13                           37.7               28.0\n",
      "14                           37.1               33.1\n"
     ]
    }
   ],
   "source": [
    "#1-Déterminez les variables numériques et stockez-les dans un tableau num_data \n",
    "num_data = data.select_dtypes(include=['int64','float64'])\n",
    "print(num_data)"
   ]
  },
  {
   "cell_type": "code",
   "execution_count": 23,
   "id": "9d6158fc",
   "metadata": {},
   "outputs": [
    {
     "data": {
      "text/html": [
       "<div>\n",
       "<style scoped>\n",
       "    .dataframe tbody tr th:only-of-type {\n",
       "        vertical-align: middle;\n",
       "    }\n",
       "\n",
       "    .dataframe tbody tr th {\n",
       "        vertical-align: top;\n",
       "    }\n",
       "\n",
       "    .dataframe thead th {\n",
       "        text-align: right;\n",
       "    }\n",
       "</style>\n",
       "<table border=\"1\" class=\"dataframe\">\n",
       "  <thead>\n",
       "    <tr style=\"text-align: right;\">\n",
       "      <th></th>\n",
       "      <th>mean</th>\n",
       "    </tr>\n",
       "  </thead>\n",
       "  <tbody>\n",
       "    <tr>\n",
       "      <th>Taux d'urbanisation</th>\n",
       "      <td>29.650000</td>\n",
       "    </tr>\n",
       "    <tr>\n",
       "      <th>Taux de natalilté</th>\n",
       "      <td>31.107143</td>\n",
       "    </tr>\n",
       "  </tbody>\n",
       "</table>\n",
       "</div>"
      ],
      "text/plain": [
       "                          mean\n",
       "Taux d'urbanisation  29.650000\n",
       "Taux de natalilté    31.107143"
      ]
     },
     "execution_count": 23,
     "metadata": {},
     "output_type": "execute_result"
    }
   ],
   "source": [
    "#Calculez la moyenne de chaque variable contenue dans num_data \n",
    "#et stockez-les dans une statistique DataFrame avec la moyenne comme seule colonne\n",
    "stats = pd.DataFrame(num_data.mean(),columns = ['mean'])\n",
    "stats"
   ]
  },
  {
   "cell_type": "code",
   "execution_count": 8,
   "id": "a8075fd3",
   "metadata": {},
   "outputs": [],
   "source": [
    "#Comparez la moyenne du taux d’urbanisation avec la moyenne des taux de natalité. Que trouvez-vous?\n",
    "#Ces deux moyennes sont à peu près égales, on peut prendre l'hypothèse que ces deux variables présente une homogenity dans l'intervale \n",
    "#MAis ce n'est  pas suffisant pour cette determination, pour cette raison il faut calculer la médiane et les quantiles"
   ]
  },
  {
   "cell_type": "code",
   "execution_count": 27,
   "id": "27cb4d91",
   "metadata": {},
   "outputs": [],
   "source": [
    "#Calculez la médiane de chaque variable contenue dans num_data et ajoutez une colonne médiane à stats\n",
    "stats['median'] = num_data.median()"
   ]
  },
  {
   "cell_type": "code",
   "execution_count": 28,
   "id": "cb009c54",
   "metadata": {},
   "outputs": [
    {
     "data": {
      "text/html": [
       "<div>\n",
       "<style scoped>\n",
       "    .dataframe tbody tr th:only-of-type {\n",
       "        vertical-align: middle;\n",
       "    }\n",
       "\n",
       "    .dataframe tbody tr th {\n",
       "        vertical-align: top;\n",
       "    }\n",
       "\n",
       "    .dataframe thead th {\n",
       "        text-align: right;\n",
       "    }\n",
       "</style>\n",
       "<table border=\"1\" class=\"dataframe\">\n",
       "  <thead>\n",
       "    <tr style=\"text-align: right;\">\n",
       "      <th></th>\n",
       "      <th>mean</th>\n",
       "      <th>median</th>\n",
       "    </tr>\n",
       "  </thead>\n",
       "  <tbody>\n",
       "    <tr>\n",
       "      <th>Taux d'urbanisation</th>\n",
       "      <td>29.650000</td>\n",
       "      <td>29.8</td>\n",
       "    </tr>\n",
       "    <tr>\n",
       "      <th>Taux de natalilté</th>\n",
       "      <td>31.107143</td>\n",
       "      <td>31.8</td>\n",
       "    </tr>\n",
       "  </tbody>\n",
       "</table>\n",
       "</div>"
      ],
      "text/plain": [
       "                          mean  median\n",
       "Taux d'urbanisation  29.650000    29.8\n",
       "Taux de natalilté    31.107143    31.8"
      ]
     },
     "execution_count": 28,
     "metadata": {},
     "output_type": "execute_result"
    }
   ],
   "source": [
    "stats"
   ]
  },
  {
   "cell_type": "code",
   "execution_count": 11,
   "id": "37a637ca",
   "metadata": {},
   "outputs": [],
   "source": [
    "#On peut conclure que pour le taux d'urbanisation 50% de notre échantillon présentent un taux inférieur de 29.8\n",
    "#Aussi bien 50% de notre échantillon présentent un taux de natalité inférieur/supérieur à 31.8\n",
    "#La difference entre la moyenne et la médiane n'est pas énorme et alors on peut toujours coclure l'hypothèse que ces deux variables\n",
    "#présentent une homogenity des valeurs dans des intervales comparable."
   ]
  },
  {
   "cell_type": "code",
   "execution_count": 13,
   "id": "05da2c7b",
   "metadata": {},
   "outputs": [
    {
     "data": {
      "text/html": [
       "<div>\n",
       "<style scoped>\n",
       "    .dataframe tbody tr th:only-of-type {\n",
       "        vertical-align: middle;\n",
       "    }\n",
       "\n",
       "    .dataframe tbody tr th {\n",
       "        vertical-align: top;\n",
       "    }\n",
       "\n",
       "    .dataframe thead th {\n",
       "        text-align: right;\n",
       "    }\n",
       "</style>\n",
       "<table border=\"1\" class=\"dataframe\">\n",
       "  <thead>\n",
       "    <tr style=\"text-align: right;\">\n",
       "      <th></th>\n",
       "      <th>mean</th>\n",
       "      <th>median</th>\n",
       "      <th>mean_med_diff</th>\n",
       "    </tr>\n",
       "  </thead>\n",
       "  <tbody>\n",
       "    <tr>\n",
       "      <th>Taux d'urbanisation</th>\n",
       "      <td>29.650000</td>\n",
       "      <td>29.8</td>\n",
       "      <td>0.150000</td>\n",
       "    </tr>\n",
       "    <tr>\n",
       "      <th>Taux de natalilté</th>\n",
       "      <td>31.107143</td>\n",
       "      <td>31.8</td>\n",
       "      <td>0.692857</td>\n",
       "    </tr>\n",
       "  </tbody>\n",
       "</table>\n",
       "</div>"
      ],
      "text/plain": [
       "                          mean  median  mean_med_diff\n",
       "Taux d'urbanisation  29.650000    29.8       0.150000\n",
       "Taux de natalilté    31.107143    31.8       0.692857"
      ]
     },
     "execution_count": 13,
     "metadata": {},
     "output_type": "execute_result"
    }
   ],
   "source": [
    "#Créez une variable mean_med_diff correspondant à la valeur absolue de la différence entre la moyenne et la médiane\n",
    "stats['mean_med_diff']=abs(stats['mean'] - stats['median'])\n",
    "stats"
   ]
  },
  {
   "cell_type": "code",
   "execution_count": 29,
   "id": "c205e8d3",
   "metadata": {},
   "outputs": [
    {
     "data": {
      "text/html": [
       "<div>\n",
       "<style scoped>\n",
       "    .dataframe tbody tr th:only-of-type {\n",
       "        vertical-align: middle;\n",
       "    }\n",
       "\n",
       "    .dataframe tbody tr th {\n",
       "        vertical-align: top;\n",
       "    }\n",
       "\n",
       "    .dataframe thead th {\n",
       "        text-align: right;\n",
       "    }\n",
       "</style>\n",
       "<table border=\"1\" class=\"dataframe\">\n",
       "  <thead>\n",
       "    <tr style=\"text-align: right;\">\n",
       "      <th></th>\n",
       "      <th>Taux d'urbanisation</th>\n",
       "      <th>Taux de natalilté</th>\n",
       "    </tr>\n",
       "  </thead>\n",
       "  <tbody>\n",
       "    <tr>\n",
       "      <th>0.25</th>\n",
       "      <td>15.40</td>\n",
       "      <td>25.45</td>\n",
       "    </tr>\n",
       "    <tr>\n",
       "      <th>0.50</th>\n",
       "      <td>29.80</td>\n",
       "      <td>31.80</td>\n",
       "    </tr>\n",
       "    <tr>\n",
       "      <th>0.75</th>\n",
       "      <td>37.55</td>\n",
       "      <td>39.75</td>\n",
       "    </tr>\n",
       "  </tbody>\n",
       "</table>\n",
       "</div>"
      ],
      "text/plain": [
       "      Taux d'urbanisation  Taux de natalilté\n",
       "0.25                15.40              25.45\n",
       "0.50                29.80              31.80\n",
       "0.75                37.55              39.75"
      ]
     },
     "execution_count": 29,
     "metadata": {},
     "output_type": "execute_result"
    }
   ],
   "source": [
    "num_data.quantile(q=[0.25, 0.5,0.75])"
   ]
  },
  {
   "cell_type": "code",
   "execution_count": 30,
   "id": "38e1f504",
   "metadata": {},
   "outputs": [
    {
     "data": {
      "text/html": [
       "<div>\n",
       "<style scoped>\n",
       "    .dataframe tbody tr th:only-of-type {\n",
       "        vertical-align: middle;\n",
       "    }\n",
       "\n",
       "    .dataframe tbody tr th {\n",
       "        vertical-align: top;\n",
       "    }\n",
       "\n",
       "    .dataframe thead th {\n",
       "        text-align: right;\n",
       "    }\n",
       "</style>\n",
       "<table border=\"1\" class=\"dataframe\">\n",
       "  <thead>\n",
       "    <tr style=\"text-align: right;\">\n",
       "      <th></th>\n",
       "      <th>mean</th>\n",
       "      <th>median</th>\n",
       "      <th>q1</th>\n",
       "      <th>q2</th>\n",
       "      <th>q3</th>\n",
       "    </tr>\n",
       "  </thead>\n",
       "  <tbody>\n",
       "    <tr>\n",
       "      <th>Taux d'urbanisation</th>\n",
       "      <td>29.650000</td>\n",
       "      <td>29.8</td>\n",
       "      <td>15.40</td>\n",
       "      <td>29.8</td>\n",
       "      <td>37.55</td>\n",
       "    </tr>\n",
       "    <tr>\n",
       "      <th>Taux de natalilté</th>\n",
       "      <td>31.107143</td>\n",
       "      <td>31.8</td>\n",
       "      <td>25.45</td>\n",
       "      <td>31.8</td>\n",
       "      <td>39.75</td>\n",
       "    </tr>\n",
       "  </tbody>\n",
       "</table>\n",
       "</div>"
      ],
      "text/plain": [
       "                          mean  median     q1    q2     q3\n",
       "Taux d'urbanisation  29.650000    29.8  15.40  29.8  37.55\n",
       "Taux de natalilté    31.107143    31.8  25.45  31.8  39.75"
      ]
     },
     "execution_count": 30,
     "metadata": {},
     "output_type": "execute_result"
    }
   ],
   "source": [
    "stats[['q1' , 'q2' , 'q3']] = num_data.quantile(q=[0.25 , 0.5 , 0.75]).transpose()\n",
    "stats"
   ]
  },
  {
   "cell_type": "code",
   "execution_count": 31,
   "id": "b7d8dbff",
   "metadata": {},
   "outputs": [],
   "source": [
    "#Si on compare les valeurs des quantiles et alors q1 avec q2 et q2 avec q3, on se rend compte que l'écart entre ces valeurs n'est pas énorme\n",
    "#et ils sont de même grandeur. Même en comparant le troisième quantile à la moyenne, on est toujours dans la même zone de vaeurs\n",
    "#Cela confirme notre hypohèse de base que les point sont disperser dans des intervales comparables \n",
    "#et la dispersion des points est homogène"
   ]
  },
  {
   "cell_type": "code",
   "execution_count": 10,
   "id": "620eaaf5",
   "metadata": {},
   "outputs": [
    {
     "data": {
      "text/html": [
       "<div>\n",
       "<style scoped>\n",
       "    .dataframe tbody tr th:only-of-type {\n",
       "        vertical-align: middle;\n",
       "    }\n",
       "\n",
       "    .dataframe tbody tr th {\n",
       "        vertical-align: top;\n",
       "    }\n",
       "\n",
       "    .dataframe thead th {\n",
       "        text-align: right;\n",
       "    }\n",
       "</style>\n",
       "<table border=\"1\" class=\"dataframe\">\n",
       "  <thead>\n",
       "    <tr style=\"text-align: right;\">\n",
       "      <th></th>\n",
       "      <th>mean</th>\n",
       "      <th>median</th>\n",
       "      <th>q1</th>\n",
       "      <th>q2</th>\n",
       "      <th>q3</th>\n",
       "      <th>min</th>\n",
       "      <th>max</th>\n",
       "      <th>min_max_diff</th>\n",
       "    </tr>\n",
       "  </thead>\n",
       "  <tbody>\n",
       "    <tr>\n",
       "      <th>Taux d'urbanisation</th>\n",
       "      <td>29.650000</td>\n",
       "      <td>29.8</td>\n",
       "      <td>15.40</td>\n",
       "      <td>29.8</td>\n",
       "      <td>37.55</td>\n",
       "      <td>6.8</td>\n",
       "      <td>56.5</td>\n",
       "      <td>49.7</td>\n",
       "    </tr>\n",
       "    <tr>\n",
       "      <th>Taux de natalilté</th>\n",
       "      <td>31.107143</td>\n",
       "      <td>31.8</td>\n",
       "      <td>25.45</td>\n",
       "      <td>31.8</td>\n",
       "      <td>39.75</td>\n",
       "      <td>16.0</td>\n",
       "      <td>44.2</td>\n",
       "      <td>28.2</td>\n",
       "    </tr>\n",
       "  </tbody>\n",
       "</table>\n",
       "</div>"
      ],
      "text/plain": [
       "                          mean  median     q1    q2     q3   min   max  \\\n",
       "Taux d'urbanisation  29.650000    29.8  15.40  29.8  37.55   6.8  56.5   \n",
       "Taux de natalilté    31.107143    31.8  25.45  31.8  39.75  16.0  44.2   \n",
       "\n",
       "                     min_max_diff  \n",
       "Taux d'urbanisation          49.7  \n",
       "Taux de natalilté            28.2  "
      ]
     },
     "execution_count": 10,
     "metadata": {},
     "output_type": "execute_result"
    }
   ],
   "source": [
    "#Ajoutez au tableau stats 3 colonnes min,max et min_max_diff donnant le min, max et la différence entre les deux\n",
    "stats['min'] = num_data.min()\n",
    "stats['max'] = num_data.max()\n",
    "stats['min_max_diff'] = abs(stats['min'] - stats['max'])\n",
    "stats"
   ]
  },
  {
   "cell_type": "code",
   "execution_count": 21,
   "id": "9f306e1e",
   "metadata": {},
   "outputs": [],
   "source": [
    "#On remarque que la difference entre le min et le max n'est pas significative en terme d'intervale et de valeurs dans tous l'ensemble des reel\n",
    "#On confirme notre hypothèse de base que les deux varibales variesnt dans des intervales comparables \n",
    "#et que la dispersion des valeurs est homogène"
   ]
  },
  {
   "cell_type": "code",
   "execution_count": 12,
   "id": "f9cf2e02",
   "metadata": {},
   "outputs": [
    {
     "data": {
      "text/plain": [
       "[14.104891939411146, 45.19510806058886]"
      ]
     },
     "execution_count": 12,
     "metadata": {},
     "output_type": "execute_result"
    }
   ],
   "source": [
    "#Calculez l'écart type du taux d’urbanisation\n",
    "#Afficher la moyenne +/- la plage d'écart type du taux d’urbanisation\n",
    "\n",
    "Std_TD = data_num[\"Taux d'urbanisation\"].std()\n",
    "Moyen_TD = data_num[\"Taux d'urbanisation\"].mean()\n",
    "Interval = [Moyen_TD - Std_TD , Moyen_TD + Std_TD]\n",
    "Interval"
   ]
  },
  {
   "cell_type": "code",
   "execution_count": 32,
   "id": "72ed337f",
   "metadata": {},
   "outputs": [
    {
     "data": {
      "text/html": [
       "<div>\n",
       "<style scoped>\n",
       "    .dataframe tbody tr th:only-of-type {\n",
       "        vertical-align: middle;\n",
       "    }\n",
       "\n",
       "    .dataframe tbody tr th {\n",
       "        vertical-align: top;\n",
       "    }\n",
       "\n",
       "    .dataframe thead th {\n",
       "        text-align: right;\n",
       "    }\n",
       "</style>\n",
       "<table border=\"1\" class=\"dataframe\">\n",
       "  <thead>\n",
       "    <tr style=\"text-align: right;\">\n",
       "      <th></th>\n",
       "      <th>Taux d'urbanisation</th>\n",
       "      <th>Taux de natalilté</th>\n",
       "      <th>Urbanisation_in</th>\n",
       "    </tr>\n",
       "    <tr>\n",
       "      <th>Observations</th>\n",
       "      <th></th>\n",
       "      <th></th>\n",
       "      <th></th>\n",
       "    </tr>\n",
       "  </thead>\n",
       "  <tbody>\n",
       "    <tr>\n",
       "      <th>1</th>\n",
       "      <td>55.0</td>\n",
       "      <td>16.2</td>\n",
       "      <td>0</td>\n",
       "    </tr>\n",
       "    <tr>\n",
       "      <th>2</th>\n",
       "      <td>27.3</td>\n",
       "      <td>30.5</td>\n",
       "      <td>1</td>\n",
       "    </tr>\n",
       "    <tr>\n",
       "      <th>3</th>\n",
       "      <td>33.3</td>\n",
       "      <td>16.9</td>\n",
       "      <td>1</td>\n",
       "    </tr>\n",
       "    <tr>\n",
       "      <th>4</th>\n",
       "      <td>56.5</td>\n",
       "      <td>16.0</td>\n",
       "      <td>0</td>\n",
       "    </tr>\n",
       "    <tr>\n",
       "      <th>5</th>\n",
       "      <td>11.5</td>\n",
       "      <td>40.2</td>\n",
       "      <td>0</td>\n",
       "    </tr>\n",
       "    <tr>\n",
       "      <th>6</th>\n",
       "      <td>14.2</td>\n",
       "      <td>38.4</td>\n",
       "      <td>1</td>\n",
       "    </tr>\n",
       "    <tr>\n",
       "      <th>7</th>\n",
       "      <td>13.9</td>\n",
       "      <td>41.3</td>\n",
       "      <td>0</td>\n",
       "    </tr>\n",
       "    <tr>\n",
       "      <th>8</th>\n",
       "      <td>19.0</td>\n",
       "      <td>43.9</td>\n",
       "      <td>1</td>\n",
       "    </tr>\n",
       "    <tr>\n",
       "      <th>9</th>\n",
       "      <td>31.1</td>\n",
       "      <td>28.3</td>\n",
       "      <td>1</td>\n",
       "    </tr>\n",
       "    <tr>\n",
       "      <th>10</th>\n",
       "      <td>43.2</td>\n",
       "      <td>33.9</td>\n",
       "      <td>1</td>\n",
       "    </tr>\n",
       "    <tr>\n",
       "      <th>11</th>\n",
       "      <td>28.5</td>\n",
       "      <td>44.2</td>\n",
       "      <td>1</td>\n",
       "    </tr>\n",
       "    <tr>\n",
       "      <th>12</th>\n",
       "      <td>6.8</td>\n",
       "      <td>24.6</td>\n",
       "      <td>0</td>\n",
       "    </tr>\n",
       "    <tr>\n",
       "      <th>13</th>\n",
       "      <td>37.7</td>\n",
       "      <td>28.0</td>\n",
       "      <td>1</td>\n",
       "    </tr>\n",
       "    <tr>\n",
       "      <th>14</th>\n",
       "      <td>37.1</td>\n",
       "      <td>33.1</td>\n",
       "      <td>1</td>\n",
       "    </tr>\n",
       "  </tbody>\n",
       "</table>\n",
       "</div>"
      ],
      "text/plain": [
       "              Taux d'urbanisation  Taux de natalilté  Urbanisation_in\n",
       "Observations                                                         \n",
       "1                            55.0               16.2                0\n",
       "2                            27.3               30.5                1\n",
       "3                            33.3               16.9                1\n",
       "4                            56.5               16.0                0\n",
       "5                            11.5               40.2                0\n",
       "6                            14.2               38.4                1\n",
       "7                            13.9               41.3                0\n",
       "8                            19.0               43.9                1\n",
       "9                            31.1               28.3                1\n",
       "10                           43.2               33.9                1\n",
       "11                           28.5               44.2                1\n",
       "12                            6.8               24.6                0\n",
       "13                           37.7               28.0                1\n",
       "14                           37.1               33.1                1"
      ]
     },
     "execution_count": 32,
     "metadata": {},
     "output_type": "execute_result"
    }
   ],
   "source": [
    "#Ajouter une nouvelle colonne intitulée Urbanisation_in à num_data contenant les valeurs des taux d’urbanisation qui appartiennent à la plage précédemment calculée\n",
    "num_data['Urbanisation_in'] = num_data[\"Taux d'urbanisation\"].between(Interval[0], Interval[1]).astype(int)\n",
    "num_data"
   ]
  },
  {
   "cell_type": "code",
   "execution_count": 33,
   "id": "967d4b4d",
   "metadata": {},
   "outputs": [
    {
     "name": "stdout",
     "output_type": "stream",
     "text": [
      "1    9\n",
      "0    5\n",
      "Name: Urbanisation_in, dtype: int64\n"
     ]
    }
   ],
   "source": [
    "#Compter combien de taux d'urbanisation appartiennet à cette interval \n",
    "#Interpréter\n",
    "print(num_data['Urbanisation_in'].value_counts())"
   ]
  },
  {
   "cell_type": "code",
   "execution_count": 15,
   "id": "72f94613",
   "metadata": {},
   "outputs": [
    {
     "name": "stdout",
     "output_type": "stream",
     "text": [
      "1    0.642857\n",
      "0    0.357143\n",
      "Name: Urbanisation_in, dtype: float64\n"
     ]
    }
   ],
   "source": [
    "print(num_data['Urbanisation_in'].value_counts(normalize = True))"
   ]
  },
  {
   "cell_type": "code",
   "execution_count": 16,
   "id": "706194db",
   "metadata": {},
   "outputs": [],
   "source": [
    "#On remarque que 64% des pays présentent un taux d'urbanisation qui appartient à l'interval selectionner\n",
    "#et alors 35.7% n'appartient pas"
   ]
  },
  {
   "cell_type": "code",
   "execution_count": 49,
   "id": "9f2ddccc",
   "metadata": {},
   "outputs": [
    {
     "data": {
      "text/html": [
       "<div>\n",
       "<style scoped>\n",
       "    .dataframe tbody tr th:only-of-type {\n",
       "        vertical-align: middle;\n",
       "    }\n",
       "\n",
       "    .dataframe tbody tr th {\n",
       "        vertical-align: top;\n",
       "    }\n",
       "\n",
       "    .dataframe thead th {\n",
       "        text-align: right;\n",
       "    }\n",
       "</style>\n",
       "<table border=\"1\" class=\"dataframe\">\n",
       "  <thead>\n",
       "    <tr style=\"text-align: right;\">\n",
       "      <th></th>\n",
       "      <th>Taux d'urbanisation</th>\n",
       "      <th>Taux de natalilté</th>\n",
       "      <th>Urbanisation_in</th>\n",
       "    </tr>\n",
       "    <tr>\n",
       "      <th>Observations</th>\n",
       "      <th></th>\n",
       "      <th></th>\n",
       "      <th></th>\n",
       "    </tr>\n",
       "  </thead>\n",
       "  <tbody>\n",
       "    <tr>\n",
       "      <th>1</th>\n",
       "      <td>55.0</td>\n",
       "      <td>16.2</td>\n",
       "      <td>0</td>\n",
       "    </tr>\n",
       "    <tr>\n",
       "      <th>4</th>\n",
       "      <td>56.5</td>\n",
       "      <td>16.0</td>\n",
       "      <td>0</td>\n",
       "    </tr>\n",
       "    <tr>\n",
       "      <th>5</th>\n",
       "      <td>11.5</td>\n",
       "      <td>40.2</td>\n",
       "      <td>0</td>\n",
       "    </tr>\n",
       "    <tr>\n",
       "      <th>7</th>\n",
       "      <td>13.9</td>\n",
       "      <td>41.3</td>\n",
       "      <td>0</td>\n",
       "    </tr>\n",
       "    <tr>\n",
       "      <th>12</th>\n",
       "      <td>6.8</td>\n",
       "      <td>24.6</td>\n",
       "      <td>0</td>\n",
       "    </tr>\n",
       "  </tbody>\n",
       "</table>\n",
       "</div>"
      ],
      "text/plain": [
       "              Taux d'urbanisation  Taux de natalilté  Urbanisation_in\n",
       "Observations                                                         \n",
       "1                            55.0               16.2                0\n",
       "4                            56.5               16.0                0\n",
       "5                            11.5               40.2                0\n",
       "7                            13.9               41.3                0\n",
       "12                            6.8               24.6                0"
      ]
     },
     "execution_count": 49,
     "metadata": {},
     "output_type": "execute_result"
    }
   ],
   "source": [
    "#Affichez les lignes num_data qui ont une valeur de 0 pour Urbanisation_in et stockez-les dans un DataFrame outliers\n",
    "outliers = num_data[num_data['Urbanisation_in'] == 0]\n",
    "outliers"
   ]
  },
  {
   "cell_type": "code",
   "execution_count": 51,
   "id": "4b2bbe54",
   "metadata": {},
   "outputs": [
    {
     "name": "stdout",
     "output_type": "stream",
     "text": [
      "28.740000000000002\n",
      "13.9\n"
     ]
    }
   ],
   "source": [
    "M = outliers[\"Taux d'urbanisation\"].mean()\n",
    "MM = outliers[\"Taux d'urbanisation\"].median()\n",
    "print(M)\n",
    "print(MM)"
   ]
  },
  {
   "cell_type": "code",
   "execution_count": null,
   "id": "7c51a8e7",
   "metadata": {},
   "outputs": [],
   "source": [
    "#Alors les 35.7% des pays qui présentent un taux d'urbanisation qui n'appartient pas à l'interval, présente une moyenne \n",
    "#de taux d'urbanisation de 28.74 répartient de manière leur moitié est inférieur à 13.9."
   ]
  },
  {
   "cell_type": "code",
   "execution_count": 53,
   "id": "7bc0f830",
   "metadata": {},
   "outputs": [
    {
     "data": {
      "text/plain": [
       "Text(0, 0.5, 'Taux de natalilté')"
      ]
     },
     "execution_count": 53,
     "metadata": {},
     "output_type": "execute_result"
    },
    {
     "data": {
      "image/png": "[encoded data removed]",
      "text/plain": [
       "<Figure size 432x288 with 1 Axes>"
      ]
     },
     "metadata": {
      "needs_background": "light"
     },
     "output_type": "display_data"
    }
   ],
   "source": [
    "import matplotlib.pyplot as plt\n",
    "plt.scatter(data[\"Taux d'urbanisation\"], data['Taux de natalilté'])\n",
    "plt.xlabel(\"Taux d'urbanisation\")\n",
    "plt.ylabel('Taux de natalilté')"
   ]
  },
  {
   "cell_type": "code",
   "execution_count": null,
   "id": "0c1ede37",
   "metadata": {},
   "outputs": [],
   "source": []
  }
 ],
 "metadata": {
  "kernelspec": {
   "display_name": "Python 3 (ipykernel)",
   "language": "python",
   "name": "python3"
  },
  "language_info": {
   "codemirror_mode": {
    "name": "ipython",
    "version": 3
   },
   "file_extension": ".py",
   "mimetype": "text/x-python",
   "name": "python",
   "nbconvert_exporter": "python",
   "pygments_lexer": "ipython3",
   "version": "3.9.7"
  }
 },
 "nbformat": 4,
 "nbformat_minor": 5
}
